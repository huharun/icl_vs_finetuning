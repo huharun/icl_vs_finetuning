{
 "cells": [
  {
   "cell_type": "markdown",
   "id": "83d14e77",
   "metadata": {},
   "source": [
    "# In-Context Learning vs Fine-Tuning (ICL vs FT)\n",
    "\n",
    "Comparative analysis on NLP tasks using Hugging Face and Ollama."
   ]
  },
  {
   "cell_type": "code",
   "execution_count": 1,
   "id": "82353099",
   "metadata": {},
   "outputs": [
    {
     "name": "stderr",
     "output_type": "stream",
     "text": [
      "C:\\Users\\arunr\\AppData\\Local\\Packages\\PythonSoftwareFoundation.Python.3.12_qbz5n2kfra8p0\\LocalCache\\local-packages\\Python312\\site-packages\\tqdm\\auto.py:21: TqdmWarning: IProgress not found. Please update jupyter and ipywidgets. See https://ipywidgets.readthedocs.io/en/stable/user_install.html\n",
      "  from .autonotebook import tqdm as notebook_tqdm\n"
     ]
    }
   ],
   "source": [
    "import ollama\n",
    "import time\n",
    "import pandas as pd\n",
    "from transformers import pipeline\n",
    "from prompts import build_prompt\n",
    "from utils import (\n",
    "    compute_f1, compute_em, compute_rouge,\n",
    "    compute_bleu, compute_bertscore, compute_chrf,\n",
    "    compute_classification_metrics\n",
    ")\n",
    "from evaluate import load\n",
    "import matplotlib.pyplot as plt\n",
    "import seaborn as sns\n",
    "\n",
    "sns.set(style=\"whitegrid\")\n"
   ]
  },
  {
   "cell_type": "markdown",
   "id": "8df3a9d8",
   "metadata": {},
   "source": [
    "## 🔧 Task Configuration"
   ]
  },
  {
   "cell_type": "code",
   "execution_count": 2,
   "id": "2be7f76a",
   "metadata": {},
   "outputs": [],
   "source": [
    "# Choose task manually\n",
    "task = \"Question Answering (SQuAD)\"  # or \"Text Classification (AG News)\", \"Translation (WMT)\"\n",
    "context = \"Python is a programming language used in AI and web development.\"\n",
    "question = \"What is Python?\"\n",
    "expected = \"a programming language\"\n",
    "prompt_style = \"Few-Shot\"\n"
   ]
  },
  {
   "cell_type": "markdown",
   "id": "5cb93f35",
   "metadata": {},
   "source": [
    "## 🤖 Fine-Tuned Model (BERT) Inference"
   ]
  },
  {
   "cell_type": "code",
   "execution_count": 3,
   "id": "fe5f47fb",
   "metadata": {},
   "outputs": [
    {
     "name": "stderr",
     "output_type": "stream",
     "text": [
      "Some weights of the model checkpoint at deepset/bert-base-cased-squad2 were not used when initializing BertForQuestionAnswering: ['bert.pooler.dense.bias', 'bert.pooler.dense.weight']\n",
      "- This IS expected if you are initializing BertForQuestionAnswering from the checkpoint of a model trained on another task or with another architecture (e.g. initializing a BertForSequenceClassification model from a BertForPreTraining model).\n",
      "- This IS NOT expected if you are initializing BertForQuestionAnswering from the checkpoint of a model that you expect to be exactly identical (initializing a BertForSequenceClassification model from a BertForSequenceClassification model).\n",
      "Device set to use cpu\n"
     ]
    },
    {
     "name": "stdout",
     "output_type": "stream",
     "text": [
      "Fine-Tuned Answer: a programming language\n"
     ]
    }
   ],
   "source": [
    "results = []\n",
    "\n",
    "if task == \"Question Answering (SQuAD)\":\n",
    "    qa = pipeline(\"question-answering\", model=\"deepset/bert-base-cased-squad2\")\n",
    "    ft_answer = qa(question=question, context=context)[\"answer\"]\n",
    "    print(\"Fine-Tuned Answer:\", ft_answer)\n",
    "\n",
    "    results.extend([\n",
    "        {\"Method\": \"FT-BERT\", \"Metric\": \"F1\", \"Score\": compute_f1(ft_answer, expected)},\n",
    "        {\"Method\": \"FT-BERT\", \"Metric\": \"Exact Match\", \"Score\": compute_em(ft_answer, expected)},\n",
    "        {\"Method\": \"FT-BERT\", \"Metric\": \"ROUGE-L\", \"Score\": compute_rouge(ft_answer, expected)}\n",
    "    ])\n",
    "elif task == \"Text Classification (AG News)\":\n",
    "    clf = pipeline(\"text-classification\", model=\"textattack/bert-base-uncased-ag-news\")\n",
    "    ft_answer = clf(context)[0][\"label\"].lower()\n",
    "    expected = expected.lower()\n",
    "    print(\"Fine-Tuned Answer:\", ft_answer)\n",
    "    results.extend([\n",
    "        {\"Method\": \"FT-BERT\", \"Metric\": k, \"Score\": v}\n",
    "        for k, v in compute_classification_metrics(ft_answer, expected).items()\n",
    "    ])\n",
    "elif task == \"Translation (WMT)\":\n",
    "    translator = pipeline(\"translation_en_to_fr\", model=\"Helsinki-NLP/opus-mt-en-fr\")\n",
    "    ft_answer = translator(context)[0][\"translation_text\"]\n",
    "    print(\"Fine-Tuned Translation:\", ft_answer)\n",
    "    results.extend([\n",
    "        {\"Method\": \"FT-BERT\", \"Metric\": \"BLEU\", \"Score\": compute_bleu(ft_answer, expected)},\n",
    "        {\"Method\": \"FT-BERT\", \"Metric\": \"BERTScore\", \"Score\": compute_bertscore(ft_answer, expected)},\n",
    "        {\"Method\": \"FT-BERT\", \"Metric\": \"ChrF\", \"Score\": compute_chrf(ft_answer, expected)}\n",
    "    ])\n"
   ]
  },
  {
   "cell_type": "markdown",
   "id": "41636f25",
   "metadata": {},
   "source": [
    "## 🧠 In-Context Learning (ICL) - LLaMA3 and DeepSeek"
   ]
  },
  {
   "cell_type": "code",
   "execution_count": 4,
   "id": "e018adda",
   "metadata": {},
   "outputs": [
    {
     "name": "stdout",
     "output_type": "stream",
     "text": [
      "ICL llama3 Answer: (14.09s) A programming language.\n",
      "ICL deepseek-r1 Answer: (88.97s) <think>\n",
      "Okay, so I need to figure out what Python is. The context given says that Python is a programming language used in AI and web development. Hmm, let me break this down step by step. \n",
      "\n",
      "First, the question is asking for an explanation of Python based solely on the provided context. So I shouldn't add any extra information beyond what's given. The context mentions two main areas where Python is used: AI (Artificial Intelligence) and web development.\n",
      "\n",
      "Python being a programming language implies it's a tool that developers use to write software applications. In web development, Python can be used for things like building websites or web services. For example, frameworks like Django or Flask are built with Python, which helps in creating full-stack web applications where both the front-end and back-end are handled.\n",
      "\n",
      "In AI, Python is also widely used. Libraries like TensorFlow and PyTorch make it easier to build machine learning models. It's known for its simplicity and readability compared to some other languages, making it popular among developers who want to create intelligent systems without getting bogged down in complex syntax.\n",
      "\n",
      "So putting this together, Python is a high-level programming language that's versatile enough to be used in both building websites and developing AI applications. Its use in these areas makes it a powerful tool for developers working on various projects.\n",
      "\n",
      "I should make sure my answer doesn't mention anything outside the context provided. The key points are its usage in AI and web development, along with it being a programming language. Maybe I can also hint at its versatility or why it's popular.\n",
      "</think>\n",
      "\n",
      "Python is a high-level programming language known for its versatility and readability. It is widely used in various applications, including artificial intelligence (AI) and web development. In AI, Python powers machine learning models through libraries like TensorFlow and PyTorch. For web development, it facilitates the creation of websites and web services using frameworks such as Django or Flask. Its simplicity and extensive ecosystem make it a popular choice for developers seeking to build intelligent systems efficiently.\n"
     ]
    }
   ],
   "source": [
    "for model in [\"llama3\", \"deepseek-r1\"]:\n",
    "    prompt = build_prompt(context, question, prompt_style, task)\n",
    "    start = time.time()\n",
    "    res = ollama.chat(model=model, messages=[{\"role\": \"user\", \"content\": prompt}])\n",
    "    end = time.time()\n",
    "    icl_answer = res[\"message\"][\"content\"].strip()\n",
    "    print(f\"ICL {model} Answer: ({round(end-start, 2)}s)\", icl_answer)\n",
    "\n",
    "    if task == \"Question Answering (SQuAD)\":\n",
    "        results.extend([\n",
    "            {\"Method\": f\"ICL-{model}\", \"Metric\": \"F1\", \"Score\": compute_f1(icl_answer, expected)},\n",
    "            {\"Method\": f\"ICL-{model}\", \"Metric\": \"Exact Match\", \"Score\": compute_em(icl_answer, expected)},\n",
    "            {\"Method\": f\"ICL-{model}\", \"Metric\": \"ROUGE-L\", \"Score\": compute_rouge(icl_answer, expected)}\n",
    "        ])\n",
    "    elif task == \"Text Classification (AG News)\":\n",
    "        icl_answer = icl_answer.lower().strip()\n",
    "        expected = expected.lower().strip()\n",
    "        results.extend([\n",
    "            {\"Method\": f\"ICL-{model}\", \"Metric\": k, \"Score\": v}\n",
    "            for k, v in compute_classification_metrics(icl_answer, expected).items()\n",
    "        ])\n",
    "    elif task == \"Translation (WMT)\":\n",
    "        results.extend([\n",
    "            {\"Method\": f\"ICL-{model}\", \"Metric\": \"BLEU\", \"Score\": compute_bleu(icl_answer, expected)},\n",
    "            {\"Method\": f\"ICL-{model}\", \"Metric\": \"BERTScore\", \"Score\": compute_bertscore(icl_answer, expected)},\n",
    "            {\"Method\": f\"ICL-{model}\", \"Metric\": \"ChrF\", \"Score\": compute_chrf(icl_answer, expected)}\n",
    "        ])\n"
   ]
  },
  {
   "cell_type": "markdown",
   "id": "295159ff",
   "metadata": {},
   "source": [
    "## 📊 Metric Comparison"
   ]
  },
  {
   "cell_type": "code",
   "execution_count": 5,
   "id": "3ff50399",
   "metadata": {},
   "outputs": [
    {
     "data": {
      "text/html": [
       "<div>\n",
       "<style scoped>\n",
       "    .dataframe tbody tr th:only-of-type {\n",
       "        vertical-align: middle;\n",
       "    }\n",
       "\n",
       "    .dataframe tbody tr th {\n",
       "        vertical-align: top;\n",
       "    }\n",
       "\n",
       "    .dataframe thead th {\n",
       "        text-align: right;\n",
       "    }\n",
       "</style>\n",
       "<table border=\"1\" class=\"dataframe\">\n",
       "  <thead>\n",
       "    <tr style=\"text-align: right;\">\n",
       "      <th>Metric</th>\n",
       "      <th>Exact Match</th>\n",
       "      <th>F1</th>\n",
       "      <th>ROUGE-L</th>\n",
       "    </tr>\n",
       "    <tr>\n",
       "      <th>Method</th>\n",
       "      <th></th>\n",
       "      <th></th>\n",
       "      <th></th>\n",
       "    </tr>\n",
       "  </thead>\n",
       "  <tbody>\n",
       "    <tr>\n",
       "      <th>FT-BERT</th>\n",
       "      <td>100.0</td>\n",
       "      <td>100.000000</td>\n",
       "      <td>100.000000</td>\n",
       "    </tr>\n",
       "    <tr>\n",
       "      <th>ICL-deepseek-r1</th>\n",
       "      <td>0.0</td>\n",
       "      <td>1.212121</td>\n",
       "      <td>1.666667</td>\n",
       "    </tr>\n",
       "    <tr>\n",
       "      <th>ICL-llama3</th>\n",
       "      <td>100.0</td>\n",
       "      <td>100.000000</td>\n",
       "      <td>100.000000</td>\n",
       "    </tr>\n",
       "  </tbody>\n",
       "</table>\n",
       "</div>"
      ],
      "text/plain": [
       "Metric           Exact Match          F1     ROUGE-L\n",
       "Method                                              \n",
       "FT-BERT                100.0  100.000000  100.000000\n",
       "ICL-deepseek-r1          0.0    1.212121    1.666667\n",
       "ICL-llama3             100.0  100.000000  100.000000"
      ]
     },
     "metadata": {},
     "output_type": "display_data"
    },
    {
     "data": {
      "image/png": "[encoded data removed]",
      "text/plain": [
       "<Figure size 640x480 with 1 Axes>"
      ]
     },
     "metadata": {},
     "output_type": "display_data"
    }
   ],
   "source": [
    "df = pd.DataFrame(results)\n",
    "df_pivot = df.pivot(index='Method', columns='Metric', values='Score')\n",
    "display(df_pivot)\n",
    "\n",
    "df.plot(kind='bar', x='Method', y='Score', color='skyblue', legend=False)\n",
    "plt.title(f\"Performance Comparison - {task}\")\n",
    "plt.ylabel(\"Score\")\n",
    "plt.xticks(rotation=45)\n",
    "plt.grid(True)\n",
    "plt.tight_layout()\n",
    "plt.show()\n"
   ]
  },
  {
   "cell_type": "code",
   "execution_count": null,
   "id": "64b6883c",
   "metadata": {},
   "outputs": [],
   "source": []
  }
 ],
 "metadata": {
  "kernelspec": {
   "display_name": "Python 3",
   "language": "python",
   "name": "python3"
  },
  "language_info": {
   "codemirror_mode": {
    "name": "ipython",
    "version": 3
   },
   "file_extension": ".py",
   "mimetype": "text/x-python",
   "name": "python",
   "nbconvert_exporter": "python",
   "pygments_lexer": "ipython3",
   "version": "3.12.10"
  }
 },
 "nbformat": 4,
 "nbformat_minor": 5
}
